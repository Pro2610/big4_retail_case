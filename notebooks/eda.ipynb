# notebooks/eda.ipynb

import pandas as pd
import numpy as np
import matplotlib.pyplot as plt
import seaborn as sns

# -------------------------------------------------------------------
# 1. Load data
# -------------------------------------------------------------------
regions = pd.read_csv("../data/regions.csv")
stores  = pd.read_csv("../data/stores.csv", parse_dates=["opening_date"])
sales   = pd.read_csv("../data/sales.csv", parse_dates=["date"])

print("Regions:", regions.shape)
print("Stores:", stores.shape)
print("Sales:", sales.shape)

# Merge
df = sales.merge(stores, on="store_id").merge(regions, on="region")

# Basic anomaly flags
df["aov"] = np.where(df["transactions"] > 0,
                     df["revenue"]/df["transactions"], np.nan)
df["tx0_revpos"] = ((df["transactions"] == 0) & (df["revenue"] > 0)).astype(int)
df["rev_neg"]    = ((df["revenue"] <= 0) & (df["transactions"] > 0)).astype(int)

print("Anomalies:",
      df["tx0_revpos"].sum(), "tx0_revpos;",
      df["rev_neg"].sum(), "rev_neg")

# Focus window: last 90 days
cutoff = df["date"].max() - pd.Timedelta(days=90)
df90 = df[df["date"] >= cutoff].copy()

# -------------------------------------------------------------------
# 2. AOV distribution by region
# -------------------------------------------------------------------
plt.figure(figsize=(12,6))
sns.boxplot(data=df90, x="region", y="aov")
plt.xticks(rotation=45)
plt.title("AOV distribution by region (last 90d)")
plt.ylabel("AOV (€)")
plt.xlabel("Region")
plt.tight_layout()
plt.show()

# -------------------------------------------------------------------
# 3. Income ↔ AOV scatter with regression line
# -------------------------------------------------------------------
aov_region = df90.groupby("region")["aov"].mean().reset_index()
aov_region = aov_region.merge(regions, on="region")

plt.figure(figsize=(8,6))
sns.regplot(data=aov_region, x="avg_income", y="aov", ci=None, scatter_kws={'s':60})
plt.title("Income vs AOV (region-level)")
plt.xlabel("Avg income (€/month)")
plt.ylabel("Average AOV (€)")
plt.show()

corr = aov_region["avg_income"].corr(aov_region["aov"])
print("Correlation income ↔ AOV:", round(corr,3))

# -------------------------------------------------------------------
# 4. Weekday seasonality
# -------------------------------------------------------------------
df90["weekday"] = df90["date"].dt.day_name()
order = ["Monday","Tuesday","Wednesday","Thursday","Friday","Saturday","Sunday"]

weekday_stats = df90.groupby("weekday")[["revenue","transactions","aov"]].mean().reindex(order)

plt.figure(figsize=(10,5))
sns.lineplot(data=weekday_stats.reset_index(), x="weekday", y="revenue", marker="o")
plt.title("Weekday seasonality: Avg Revenue per store")
plt.xticks(rotation=45)
plt.ylabel("Revenue (€)")
plt.show()

plt.figure(figsize=(10,5))
sns.lineplot(data=weekday_stats.reset_index(), x="weekday", y="aov", marker="o")
plt.title("Weekday seasonality: Avg AOV")
plt.xticks(rotation=45)
plt.ylabel("AOV (€)")
plt.show()

# -------------------------------------------------------------------
# 5. Ramp-up curves (weeks since opening)
# -------------------------------------------------------------------
df90["store_age_days"] = (df90["date"] - df90["opening_date"]).dt.days
df90 = df90[df90["store_age_days"] >= 0]

df90["weeks_since_open"] = (df90["store_age_days"] // 7)
ramp = df90.groupby("weeks_since_open")[["revenue","transactions","aov"]].mean().reset_index()

fig, axes = plt.subplots(1,2, figsize=(14,5))
sns.lineplot(data=ramp, x="weeks_since_open", y="revenue", ax=axes[0], marker="o")
axes[0].set_title("Ramp-up: Avg Revenue per store")
sns.lineplot(data=ramp, x="weeks_since_open", y="aov", ax=axes[1], marker="o")
axes[1].set_title("Ramp-up: Avg AOV per store")
plt.show()

# -------------------------------------------------------------------
# 6. Risk heatmap (simple proxy: % stores below region avg revenue)
# -------------------------------------------------------------------
store_avg = df90.groupby(["store_id","region"])["revenue"].mean().reset_index()
reg_avg = store_avg.groupby("region")["revenue"].mean().reset_index().rename(columns={"revenue":"avg_rev_reg"})
merged = store_avg.merge(reg_avg,on="region")
merged["below_avg"] = (merged["revenue"] < merged["avg_rev_reg"]).astype(int)

risk = merged.groupby("region")["below_avg"].mean().reset_index()
risk_pivot = risk.set_index("region").sort_values("below_avg")

plt.figure(figsize=(8,6))
sns.heatmap(risk_pivot, annot=True, cmap="Reds", cbar=False, fmt=".0%")
plt.title("% of stores below regional average (risk proxy)")
plt.ylabel("Region")
plt.show()
